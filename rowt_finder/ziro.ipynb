{
 "cells": [
  {
   "cell_type": "code",
   "execution_count": 107,
   "id": "f8c4afc2-a2a8-47be-adb9-7b921bbb48ab",
   "metadata": {},
   "outputs": [],
   "source": [
    "import numpy as np \n",
    "def root_finder(A:float,B:float,ebsilon:float,def_Formula,cycle=1000):\n",
    "\n",
    "    i=0\n",
    "    while i <= cycle:\n",
    "        i+=1\n",
    "        \n",
    "        res=(A+B)/2\n",
    "        Fres=def_Formula(res)\n",
    "        if np.abs(Fres) < ebsilon :\n",
    "            return (    \n",
    "            f'''\n",
    "            X -> {res}\n",
    "            Calculation error -> {Fres}\n",
    "            '''\n",
    "            )\n",
    "    \n",
    "        elif (def_Formula(res)*def_Formula(A)) >= 0:\n",
    "            A,B=res,B\n",
    "            \n",
    "        elif (def_Formula(res)*def_Formula(A) < 0):\n",
    "            A,B=A,res\n",
    "        \n",
    "    \n",
    "        "
   ]
  },
  {
   "cell_type": "code",
   "execution_count": 120,
   "id": "23d93d4d-ccc5-4422-93ac-ad087a817ae4",
   "metadata": {},
   "outputs": [],
   "source": [
    "# def Fx_example(x):\n",
    "#    return x-(0.5*np.cos(x))"
   ]
  },
  {
   "cell_type": "code",
   "execution_count": 135,
   "id": "7b1dea91-c0ed-4acd-9d48-135887514436",
   "metadata": {},
   "outputs": [],
   "source": [
    "def Fx_question_11(x):\n",
    "    return (x**4)+(2*x**2)-1"
   ]
  },
  {
   "cell_type": "code",
   "execution_count": 136,
   "id": "13c2a7fb-cb9a-4d32-b218-d07b739c96a8",
   "metadata": {},
   "outputs": [],
   "source": [
    "def Fx_question_7(x):\n",
    "    return (x**3)+x-1"
   ]
  },
  {
   "cell_type": "code",
   "execution_count": 137,
   "id": "5fc62e4b-2c56-4bdd-8838-f476648140bd",
   "metadata": {},
   "outputs": [],
   "source": [
    "def Fx_question_8(x):\n",
    "   return x-(0.5*np.cos(x))"
   ]
  },
  {
   "cell_type": "code",
   "execution_count": null,
   "id": "8e9a22f1-f9ae-44d1-910e-e7a8157cf3ee",
   "metadata": {},
   "outputs": [],
   "source": []
  },
  {
   "cell_type": "code",
   "execution_count": 138,
   "id": "69bc6723-b142-4035-b6fe-01de0c2e1cae",
   "metadata": {},
   "outputs": [
    {
     "name": "stdout",
     "output_type": "stream",
     "text": [
      "\n",
      "            X -> 0.682373046875\n",
      "            Calculation error -> 0.00010843882046174258\n",
      "            \n"
     ]
    }
   ],
   "source": [
    "print(root_finder(ebsilon= 0.001 ,A=-10,B=10,def_Formula=Fx_question_7))"
   ]
  },
  {
   "cell_type": "code",
   "execution_count": 139,
   "id": "e74150dc-99da-4a6f-a9a7-3a7a6b0a86fd",
   "metadata": {},
   "outputs": [
    {
     "name": "stdout",
     "output_type": "stream",
     "text": [
      "\n",
      "            X -> 0.450439453125\n",
      "            Calculation error -> 0.00031151890057296017\n",
      "            \n"
     ]
    }
   ],
   "source": [
    "print(root_finder(ebsilon= 0.001 ,A=-10,B=10,def_Formula=Fx_question_8))"
   ]
  },
  {
   "cell_type": "code",
   "execution_count": 141,
   "id": "38b69d26-1122-4723-bf56-a4019c89c428",
   "metadata": {},
   "outputs": [
    {
     "name": "stdout",
     "output_type": "stream",
     "text": [
      "\n",
      "            X -> -0.64361572265625\n",
      "            Calculation error -> 7.816739421695473e-05\n",
      "            \n"
     ]
    }
   ],
   "source": [
    "print(root_finder(ebsilon= 0.001 ,A=-10,B=10,def_Formula=Fx_question_11))"
   ]
  }
 ],
 "metadata": {
  "kernelspec": {
   "display_name": "Python 3 (ipykernel)",
   "language": "python",
   "name": "python3"
  },
  "language_info": {
   "codemirror_mode": {
    "name": "ipython",
    "version": 3
   },
   "file_extension": ".py",
   "mimetype": "text/x-python",
   "name": "python",
   "nbconvert_exporter": "python",
   "pygments_lexer": "ipython3",
   "version": "3.12.7"
  }
 },
 "nbformat": 4,
 "nbformat_minor": 5
}
